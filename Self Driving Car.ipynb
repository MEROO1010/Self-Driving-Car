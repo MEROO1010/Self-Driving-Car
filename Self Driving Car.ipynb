{
  "nbformat": 4,
  "nbformat_minor": 0,
  "metadata": {
    "colab": {
      "provenance": [],
      "authorship_tag": "ABX9TyNIMw5aW/e1JxNDrYHN3mcV",
      "include_colab_link": true
    },
    "kernelspec": {
      "name": "python3",
      "display_name": "Python 3"
    },
    "language_info": {
      "name": "python"
    }
  },
  "cells": [
    {
      "cell_type": "markdown",
      "metadata": {
        "id": "view-in-github",
        "colab_type": "text"
      },
      "source": [
        "<a href=\"https://colab.research.google.com/github/MEROO1010/Self-Driving-Car/blob/main/Self%20Driving%20Car.ipynb\" target=\"_parent\"><img src=\"https://colab.research.google.com/assets/colab-badge.svg\" alt=\"Open In Colab\"/></a>"
      ]
    },
    {
      "cell_type": "code",
      "execution_count": 8,
      "metadata": {
        "id": "JdN-PBVaDzKD"
      },
      "outputs": [],
      "source": [
        "import pygame\n",
        "import math\n",
        "import random"
      ]
    },
    {
      "cell_type": "markdown",
      "source": [
        "## **Initialize pygame**"
      ],
      "metadata": {
        "id": "74Sv-x5xEDKM"
      }
    },
    {
      "cell_type": "code",
      "source": [
        "pygame.init()"
      ],
      "metadata": {
        "colab": {
          "base_uri": "https://localhost:8080/"
        },
        "id": "X6O-SawlEE7g",
        "outputId": "59aa5930-69a0-4dfe-e531-e82d1f0c1cd2"
      },
      "execution_count": 9,
      "outputs": [
        {
          "output_type": "execute_result",
          "data": {
            "text/plain": [
              "(4, 1)"
            ]
          },
          "metadata": {},
          "execution_count": 9
        }
      ]
    },
    {
      "cell_type": "markdown",
      "source": [
        "# **Screen dimensions**\n"
      ],
      "metadata": {
        "id": "OIyuqcwsEUEW"
      }
    },
    {
      "cell_type": "code",
      "source": [
        "WIDTH, HEIGHT = 800, 600"
      ],
      "metadata": {
        "id": "LcTKGVGbEZT7"
      },
      "execution_count": 10,
      "outputs": []
    },
    {
      "cell_type": "markdown",
      "source": [
        "## **Colors**"
      ],
      "metadata": {
        "id": "MNTQHYm6Eiej"
      }
    },
    {
      "cell_type": "code",
      "source": [
        "BLACK = (0, 0, 0)\n",
        "WHITE = (255, 255, 255)\n",
        "RED = (255, 0, 0)\n",
        "GREEN = (0, 255, 0)\n",
        "BLUE = (0, 0, 255)"
      ],
      "metadata": {
        "id": "3CaJdHzpElIO"
      },
      "execution_count": 11,
      "outputs": []
    },
    {
      "cell_type": "markdown",
      "source": [
        "## **Set up the screen**"
      ],
      "metadata": {
        "id": "lk_DLwgKEreQ"
      }
    },
    {
      "cell_type": "code",
      "source": [
        "screen = pygame.display.set_mode((WIDTH, HEIGHT))\n",
        "pygame.display.set_caption(\"Self-Driving Car Simulation\")\n",
        "clock = pygame.time.Clock()"
      ],
      "metadata": {
        "id": "ak3TDGPkEtWY"
      },
      "execution_count": 12,
      "outputs": []
    },
    {
      "cell_type": "markdown",
      "source": [],
      "metadata": {
        "id": "oNr9nhyPEUA6"
      }
    },
    {
      "cell_type": "markdown",
      "source": [
        "## **Car class**"
      ],
      "metadata": {
        "id": "cFrXeGoSE0gG"
      }
    },
    {
      "cell_type": "code",
      "source": [
        "class Car:\n",
        "    def __init__(self, x, y, angle=0):\n",
        "        self.x = x\n",
        "        self.y = y\n",
        "        self.angle = angle\n",
        "        self.speed = 0\n",
        "        self.max_speed = 5\n",
        "        self.acceleration = 0.1\n",
        "        self.deceleration = 0.2\n",
        "        self.turn_speed = 3\n",
        "        self.image = pygame.Surface((50, 30), pygame.SRCALPHA)\n",
        "        pygame.draw.polygon(self.image, RED, [(0, 0), (50, 15), (0, 30)])\n",
        "\n",
        "    def update(self, keys):\n",
        "        if keys[pygame.K_UP]:\n",
        "            self.speed = min(self.speed + self.acceleration, self.max_speed)\n",
        "        elif keys[pygame.K_DOWN]:\n",
        "            self.speed = max(self.speed - self.deceleration, -self.max_speed / 2)\n",
        "        else:\n",
        "            self.speed *= 0.98  # Friction\n",
        "\n",
        "        if keys[pygame.K_LEFT]:\n",
        "            self.angle += self.turn_speed if self.speed != 0 else 0\n",
        "        if keys[pygame.K_RIGHT]:\n",
        "            self.angle -= self.turn_speed if self.speed != 0 else 0\n",
        "\n",
        "        # Update position\n",
        "        self.x += math.cos(math.radians(self.angle)) * self.speed\n",
        "        self.y -= math.sin(math.radians(self.angle)) * self.speed\n",
        "\n",
        "        # Keep the car within screen bounds\n",
        "        self.x %= WIDTH\n",
        "        self.y %= HEIGHT\n",
        "\n",
        "    def draw(self, screen):\n",
        "        rotated_image = pygame.transform.rotate(self.image, -self.angle)\n",
        "        rect = rotated_image.get_rect(center=(self.x, self.y))\n",
        "        screen.blit(rotated_image, rect.topleft)"
      ],
      "metadata": {
        "id": "d6kL92TPE2v6"
      },
      "execution_count": 13,
      "outputs": []
    },
    {
      "cell_type": "markdown",
      "source": [
        "## **Obstacle class**"
      ],
      "metadata": {
        "id": "3qcW1Wr1FC_V"
      }
    },
    {
      "cell_type": "code",
      "source": [
        "class Obstacle:\n",
        "    def __init__(self, x, y, width, height):\n",
        "        self.rect = pygame.Rect(x, y, width, height)\n",
        "\n",
        "    def draw(self, screen):\n",
        "        pygame.draw.rect(screen, BLUE, self.rect)\n",
        "\n",
        "# Function to check collision\n",
        "def check_collision(car, obstacles):\n",
        "    car_rect = pygame.Rect(car.x - 25, car.y - 15, 50, 30)\n",
        "    for obstacle in obstacles:\n",
        "        if car_rect.colliderect(obstacle.rect):\n",
        "            return True\n",
        "    return False\n",
        "\n",
        "def main():\n",
        "    # Create car instance\n",
        "    car = Car(WIDTH // 2, HEIGHT // 2)\n",
        "\n",
        "    # Generate random obstacles\n",
        "    obstacles = [Obstacle(random.randint(50, WIDTH - 50), random.randint(50, HEIGHT - 50), 50, 50) for _ in range(5)]\n",
        "\n",
        "    running = True\n",
        "    while running:\n",
        "        screen.fill(WHITE)\n",
        "\n",
        "        # Handle events\n",
        "        for event in pygame.event.get():\n",
        "            if event.type == pygame.QUIT:\n",
        "                running = False\n",
        "\n",
        "        keys = pygame.key.get_pressed()\n",
        "        car.update(keys)\n",
        "\n",
        "        # Check for collisions\n",
        "        if check_collision(car, obstacles):\n",
        "            print(\"Collision detected!\")\n",
        "\n",
        "        # Draw obstacles\n",
        "        for obstacle in obstacles:\n",
        "            obstacle.draw(screen)\n",
        "\n",
        "        # Draw car\n",
        "        car.draw(screen)\n",
        "\n",
        "        # Update display\n",
        "        pygame.display.flip()\n",
        "        clock.tick(60)\n",
        "\n",
        "    pygame.quit()\n",
        "\n",
        "if __name__ == \"__main__\":\n",
        "    main()"
      ],
      "metadata": {
        "id": "0tubBA8UFESt",
        "colab": {
          "base_uri": "https://localhost:8080/",
          "height": 309
        },
        "outputId": "6d388df8-0879-4896-9529-014c1c0cf0b7"
      },
      "execution_count": 14,
      "outputs": [
        {
          "output_type": "error",
          "ename": "KeyboardInterrupt",
          "evalue": "",
          "traceback": [
            "\u001b[0;31m---------------------------------------------------------------------------\u001b[0m",
            "\u001b[0;31mKeyboardInterrupt\u001b[0m                         Traceback (most recent call last)",
            "\u001b[0;32m<ipython-input-14-ad826e977953>\u001b[0m in \u001b[0;36m<cell line: 52>\u001b[0;34m()\u001b[0m\n\u001b[1;32m     51\u001b[0m \u001b[0;34m\u001b[0m\u001b[0m\n\u001b[1;32m     52\u001b[0m \u001b[0;32mif\u001b[0m \u001b[0m__name__\u001b[0m \u001b[0;34m==\u001b[0m \u001b[0;34m\"__main__\"\u001b[0m\u001b[0;34m:\u001b[0m\u001b[0;34m\u001b[0m\u001b[0;34m\u001b[0m\u001b[0m\n\u001b[0;32m---> 53\u001b[0;31m     \u001b[0mmain\u001b[0m\u001b[0;34m(\u001b[0m\u001b[0;34m)\u001b[0m\u001b[0;34m\u001b[0m\u001b[0;34m\u001b[0m\u001b[0m\n\u001b[0m",
            "\u001b[0;32m<ipython-input-14-ad826e977953>\u001b[0m in \u001b[0;36mmain\u001b[0;34m()\u001b[0m\n\u001b[1;32m     46\u001b[0m         \u001b[0;31m# Update display\u001b[0m\u001b[0;34m\u001b[0m\u001b[0;34m\u001b[0m\u001b[0m\n\u001b[1;32m     47\u001b[0m         \u001b[0mpygame\u001b[0m\u001b[0;34m.\u001b[0m\u001b[0mdisplay\u001b[0m\u001b[0;34m.\u001b[0m\u001b[0mflip\u001b[0m\u001b[0;34m(\u001b[0m\u001b[0;34m)\u001b[0m\u001b[0;34m\u001b[0m\u001b[0;34m\u001b[0m\u001b[0m\n\u001b[0;32m---> 48\u001b[0;31m         \u001b[0mclock\u001b[0m\u001b[0;34m.\u001b[0m\u001b[0mtick\u001b[0m\u001b[0;34m(\u001b[0m\u001b[0;36m60\u001b[0m\u001b[0;34m)\u001b[0m\u001b[0;34m\u001b[0m\u001b[0;34m\u001b[0m\u001b[0m\n\u001b[0m\u001b[1;32m     49\u001b[0m \u001b[0;34m\u001b[0m\u001b[0m\n\u001b[1;32m     50\u001b[0m     \u001b[0mpygame\u001b[0m\u001b[0;34m.\u001b[0m\u001b[0mquit\u001b[0m\u001b[0;34m(\u001b[0m\u001b[0;34m)\u001b[0m\u001b[0;34m\u001b[0m\u001b[0;34m\u001b[0m\u001b[0m\n",
            "\u001b[0;31mKeyboardInterrupt\u001b[0m: "
          ]
        }
      ]
    }
  ]
}